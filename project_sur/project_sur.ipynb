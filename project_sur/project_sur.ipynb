{
 "cells": [
  {
   "cell_type": "markdown",
   "metadata": {},
   "source": [
    "### Import Library"
   ]
  },
  {
   "cell_type": "code",
   "execution_count": 1,
   "metadata": {},
   "outputs": [],
   "source": [
    "import numpy as np\n",
    "import pandas as pd\n",
    "import seaborn as sns\n",
    "import matplotlib.pyplot as plt\n",
    "import statsmodels.api as sm\n",
    "from statsmodels.api import add_constant\n",
    "from statsmodels.regression.linear_model import OLS\n",
    "from statsmodels.sandbox.regression.gmm import IV2SLS\n",
    "from linearmodels.system import SUR\n",
    "from statsmodels.stats.outliers_influence import variance_inflation_factor\n",
    "from statsmodels.stats.diagnostic import het_breuschpagan\n",
    "from statsmodels.stats.stattools import durbin_watson\n",
    "import scipy.stats as stats"
   ]
  },
  {
   "cell_type": "markdown",
   "metadata": {},
   "source": [
    "### Read Dataset"
   ]
  },
  {
   "cell_type": "code",
   "execution_count": 2,
   "metadata": {},
   "outputs": [
    {
     "data": {
      "text/html": [
       "<div>\n",
       "<style scoped>\n",
       "    .dataframe tbody tr th:only-of-type {\n",
       "        vertical-align: middle;\n",
       "    }\n",
       "\n",
       "    .dataframe tbody tr th {\n",
       "        vertical-align: top;\n",
       "    }\n",
       "\n",
       "    .dataframe thead th {\n",
       "        text-align: right;\n",
       "    }\n",
       "</style>\n",
       "<table border=\"1\" class=\"dataframe\">\n",
       "  <thead>\n",
       "    <tr style=\"text-align: right;\">\n",
       "      <th></th>\n",
       "      <th>district_city</th>\n",
       "      <th>grdp</th>\n",
       "      <th>hdi</th>\n",
       "      <th>minimum_wage</th>\n",
       "      <th>regional_income</th>\n",
       "      <th>total_workforce</th>\n",
       "      <th>poverty</th>\n",
       "      <th>ou_rate</th>\n",
       "    </tr>\n",
       "  </thead>\n",
       "  <tbody>\n",
       "    <tr>\n",
       "      <th>0</th>\n",
       "      <td>Bangkalan</td>\n",
       "      <td>1.20</td>\n",
       "      <td>66.82</td>\n",
       "      <td>2.152451</td>\n",
       "      <td>2220.215269</td>\n",
       "      <td>608798</td>\n",
       "      <td>196.66</td>\n",
       "      <td>6.18</td>\n",
       "    </tr>\n",
       "    <tr>\n",
       "      <th>1</th>\n",
       "      <td>Banyuwangi</td>\n",
       "      <td>5.03</td>\n",
       "      <td>73.79</td>\n",
       "      <td>2.528899</td>\n",
       "      <td>3236.145966</td>\n",
       "      <td>1095024</td>\n",
       "      <td>119.52</td>\n",
       "      <td>4.75</td>\n",
       "    </tr>\n",
       "    <tr>\n",
       "      <th>2</th>\n",
       "      <td>Blitar</td>\n",
       "      <td>4.45</td>\n",
       "      <td>72.84</td>\n",
       "      <td>2.215071</td>\n",
       "      <td>2445.113221</td>\n",
       "      <td>734660</td>\n",
       "      <td>101.94</td>\n",
       "      <td>4.91</td>\n",
       "    </tr>\n",
       "    <tr>\n",
       "      <th>3</th>\n",
       "      <td>Bojonegoro</td>\n",
       "      <td>2.47</td>\n",
       "      <td>71.80</td>\n",
       "      <td>2.279568</td>\n",
       "      <td>5767.294393</td>\n",
       "      <td>786549</td>\n",
       "      <td>153.25</td>\n",
       "      <td>4.63</td>\n",
       "    </tr>\n",
       "    <tr>\n",
       "      <th>4</th>\n",
       "      <td>Bondowoso</td>\n",
       "      <td>4.62</td>\n",
       "      <td>70.56</td>\n",
       "      <td>2.154504</td>\n",
       "      <td>1908.478394</td>\n",
       "      <td>468642</td>\n",
       "      <td>105.13</td>\n",
       "      <td>4.15</td>\n",
       "    </tr>\n",
       "  </tbody>\n",
       "</table>\n",
       "</div>"
      ],
      "text/plain": [
       "  district_city  grdp    hdi  minimum_wage  regional_income  total_workforce  \\\n",
       "0     Bangkalan  1.20  66.82      2.152451      2220.215269           608798   \n",
       "1    Banyuwangi  5.03  73.79      2.528899      3236.145966          1095024   \n",
       "2        Blitar  4.45  72.84      2.215071      2445.113221           734660   \n",
       "3    Bojonegoro  2.47  71.80      2.279568      5767.294393           786549   \n",
       "4     Bondowoso  4.62  70.56      2.154504      1908.478394           468642   \n",
       "\n",
       "   poverty  ou_rate  \n",
       "0   196.66     6.18  \n",
       "1   119.52     4.75  \n",
       "2   101.94     4.91  \n",
       "3   153.25     4.63  \n",
       "4   105.13     4.15  "
      ]
     },
     "execution_count": 2,
     "metadata": {},
     "output_type": "execute_result"
    }
   ],
   "source": [
    "data = pd.read_excel('econometrics_sur_eastJava.xlsx')\n",
    "data.head()"
   ]
  },
  {
   "cell_type": "markdown",
   "metadata": {},
   "source": [
    "### Check Info"
   ]
  },
  {
   "cell_type": "code",
   "execution_count": 3,
   "metadata": {},
   "outputs": [
    {
     "name": "stdout",
     "output_type": "stream",
     "text": [
      "<class 'pandas.core.frame.DataFrame'>\n",
      "RangeIndex: 38 entries, 0 to 37\n",
      "Data columns (total 8 columns):\n",
      " #   Column           Non-Null Count  Dtype  \n",
      "---  ------           --------------  -----  \n",
      " 0   district_city    38 non-null     object \n",
      " 1   grdp             38 non-null     float64\n",
      " 2   hdi              38 non-null     float64\n",
      " 3   minimum_wage     38 non-null     float64\n",
      " 4   regional_income  38 non-null     float64\n",
      " 5   total_workforce  38 non-null     int64  \n",
      " 6   poverty          38 non-null     float64\n",
      " 7   ou_rate          38 non-null     float64\n",
      "dtypes: float64(6), int64(1), object(1)\n",
      "memory usage: 2.5+ KB\n"
     ]
    }
   ],
   "source": [
    "data.info()"
   ]
  },
  {
   "cell_type": "markdown",
   "metadata": {},
   "source": [
    "### Model 1 - GRDP"
   ]
  },
  {
   "cell_type": "code",
   "execution_count": 4,
   "metadata": {},
   "outputs": [],
   "source": [
    "X1 = add_constant(data[['hdi','minimum_wage' ,'poverty', 'ou_rate', 'total_workforce']])\n",
    "y1 = data['grdp']"
   ]
  },
  {
   "cell_type": "markdown",
   "metadata": {},
   "source": [
    "### Model 2 - Total Workforce"
   ]
  },
  {
   "cell_type": "code",
   "execution_count": 5,
   "metadata": {},
   "outputs": [],
   "source": [
    "X2 = add_constant(data[['grdp', 'hdi', 'minimum_wage', 'regional_income', 'poverty', 'ou_rate']])\n",
    "y2 = data['total_workforce']"
   ]
  },
  {
   "cell_type": "markdown",
   "metadata": {},
   "source": [
    "### Multicollinearity Test - VIF Model 1"
   ]
  },
  {
   "cell_type": "code",
   "execution_count": 6,
   "metadata": {},
   "outputs": [
    {
     "data": {
      "text/html": [
       "<div>\n",
       "<style scoped>\n",
       "    .dataframe tbody tr th:only-of-type {\n",
       "        vertical-align: middle;\n",
       "    }\n",
       "\n",
       "    .dataframe tbody tr th {\n",
       "        vertical-align: top;\n",
       "    }\n",
       "\n",
       "    .dataframe thead th {\n",
       "        text-align: right;\n",
       "    }\n",
       "</style>\n",
       "<table border=\"1\" class=\"dataframe\">\n",
       "  <thead>\n",
       "    <tr style=\"text-align: right;\">\n",
       "      <th></th>\n",
       "      <th>variable</th>\n",
       "      <th>VIF</th>\n",
       "    </tr>\n",
       "  </thead>\n",
       "  <tbody>\n",
       "    <tr>\n",
       "      <th>0</th>\n",
       "      <td>const</td>\n",
       "      <td>910.774670</td>\n",
       "    </tr>\n",
       "    <tr>\n",
       "      <th>1</th>\n",
       "      <td>hdi</td>\n",
       "      <td>3.927465</td>\n",
       "    </tr>\n",
       "    <tr>\n",
       "      <th>2</th>\n",
       "      <td>minimum_wage</td>\n",
       "      <td>1.970665</td>\n",
       "    </tr>\n",
       "    <tr>\n",
       "      <th>3</th>\n",
       "      <td>poverty</td>\n",
       "      <td>5.476245</td>\n",
       "    </tr>\n",
       "    <tr>\n",
       "      <th>4</th>\n",
       "      <td>ou_rate</td>\n",
       "      <td>2.129289</td>\n",
       "    </tr>\n",
       "    <tr>\n",
       "      <th>5</th>\n",
       "      <td>total_workforce</td>\n",
       "      <td>3.667442</td>\n",
       "    </tr>\n",
       "  </tbody>\n",
       "</table>\n",
       "</div>"
      ],
      "text/plain": [
       "          variable         VIF\n",
       "0            const  910.774670\n",
       "1              hdi    3.927465\n",
       "2     minimum_wage    1.970665\n",
       "3          poverty    5.476245\n",
       "4          ou_rate    2.129289\n",
       "5  total_workforce    3.667442"
      ]
     },
     "execution_count": 6,
     "metadata": {},
     "output_type": "execute_result"
    }
   ],
   "source": [
    "vif = pd.DataFrame()\n",
    "vif[\"variable\"] = X1.columns\n",
    "vif[\"VIF\"] = [variance_inflation_factor(X1.values, i) for i in range(X1.shape[1])]\n",
    "vif"
   ]
  },
  {
   "cell_type": "markdown",
   "metadata": {},
   "source": [
    "### Multicollinearity Test - VIF Model 2"
   ]
  },
  {
   "cell_type": "code",
   "execution_count": 7,
   "metadata": {},
   "outputs": [
    {
     "data": {
      "text/html": [
       "<div>\n",
       "<style scoped>\n",
       "    .dataframe tbody tr th:only-of-type {\n",
       "        vertical-align: middle;\n",
       "    }\n",
       "\n",
       "    .dataframe tbody tr th {\n",
       "        vertical-align: top;\n",
       "    }\n",
       "\n",
       "    .dataframe thead th {\n",
       "        text-align: right;\n",
       "    }\n",
       "</style>\n",
       "<table border=\"1\" class=\"dataframe\">\n",
       "  <thead>\n",
       "    <tr style=\"text-align: right;\">\n",
       "      <th></th>\n",
       "      <th>variable</th>\n",
       "      <th>VIF</th>\n",
       "    </tr>\n",
       "  </thead>\n",
       "  <tbody>\n",
       "    <tr>\n",
       "      <th>0</th>\n",
       "      <td>const</td>\n",
       "      <td>935.864023</td>\n",
       "    </tr>\n",
       "    <tr>\n",
       "      <th>1</th>\n",
       "      <td>grdp</td>\n",
       "      <td>1.252480</td>\n",
       "    </tr>\n",
       "    <tr>\n",
       "      <th>2</th>\n",
       "      <td>hdi</td>\n",
       "      <td>4.106407</td>\n",
       "    </tr>\n",
       "    <tr>\n",
       "      <th>3</th>\n",
       "      <td>minimum_wage</td>\n",
       "      <td>2.142916</td>\n",
       "    </tr>\n",
       "    <tr>\n",
       "      <th>4</th>\n",
       "      <td>regional_income</td>\n",
       "      <td>2.142958</td>\n",
       "    </tr>\n",
       "    <tr>\n",
       "      <th>5</th>\n",
       "      <td>poverty</td>\n",
       "      <td>3.707104</td>\n",
       "    </tr>\n",
       "    <tr>\n",
       "      <th>6</th>\n",
       "      <td>ou_rate</td>\n",
       "      <td>2.078266</td>\n",
       "    </tr>\n",
       "  </tbody>\n",
       "</table>\n",
       "</div>"
      ],
      "text/plain": [
       "          variable         VIF\n",
       "0            const  935.864023\n",
       "1             grdp    1.252480\n",
       "2              hdi    4.106407\n",
       "3     minimum_wage    2.142916\n",
       "4  regional_income    2.142958\n",
       "5          poverty    3.707104\n",
       "6          ou_rate    2.078266"
      ]
     },
     "execution_count": 7,
     "metadata": {},
     "output_type": "execute_result"
    }
   ],
   "source": [
    "vif = pd.DataFrame()\n",
    "vif[\"variable\"] = X2.columns\n",
    "vif[\"VIF\"] = [variance_inflation_factor(X2.values, i) for i in range(X2.shape[1])]\n",
    "vif"
   ]
  },
  {
   "cell_type": "markdown",
   "metadata": {},
   "source": [
    "### Normality Test"
   ]
  },
  {
   "cell_type": "code",
   "execution_count": 8,
   "metadata": {},
   "outputs": [
    {
     "name": "stdout",
     "output_type": "stream",
     "text": [
      "Kolmogorov-Smirnov Test for residual Model 1 - GRDP, p-value: 0.2508158958406136\n",
      "Kolmogorov-Smirnov Test for residual Model 2 - Total Workforce, p-value: 0.742277442379595\n"
     ]
    }
   ],
   "source": [
    "# perform the regression\n",
    "model1 = sm.OLS(y1, X1).fit()\n",
    "model2 = sm.OLS(y2, X2).fit()\n",
    "\n",
    "# residuals from model1 and model2\n",
    "residual1 = model1.resid\n",
    "residual2 = model2.resid\n",
    "\n",
    "# perform Kolmogorov-Smirnov test on residual model 1\n",
    "ks_stat1, ks_p_value1 = stats.kstest(residual1, 'norm', args=(np.mean(residual1), np.std(residual1)))\n",
    "print('Kolmogorov-Smirnov Test for residual Model 1 - GRDP, p-value:', ks_p_value1)\n",
    "\n",
    "# perform Kolmogorov-Smirnov test on residual model 2\n",
    "ks_stat2, ks_p_value2 = stats.kstest(residual2, 'norm', args=(np.mean(residual2), np.std(residual2)))\n",
    "print('Kolmogorov-Smirnov Test for residual Model 2 - Total Workforce, p-value:', ks_p_value2)\n"
   ]
  },
  {
   "cell_type": "markdown",
   "metadata": {},
   "source": [
    "### Homoscedasticity Test"
   ]
  },
  {
   "cell_type": "code",
   "execution_count": 9,
   "metadata": {},
   "outputs": [
    {
     "name": "stdout",
     "output_type": "stream",
     "text": [
      "Breusch-Pagan Test for Model 1 - GRDP: (8.05835076809901, 0.15304898662781297, 1.7224650691881498, 0.1578453063390746)\n",
      "Breusch-Pagan Test for Model 2 - Total Workforce: (8.07257203530406, 0.23283457712783817, 1.3936476231192465, 0.24841916205716916)\n"
     ]
    }
   ],
   "source": [
    "# Breusch-Pagan Test\n",
    "bp_test1 = het_breuschpagan(residual1, X1)\n",
    "bp_test2 = het_breuschpagan(residual2, X2)\n",
    "\n",
    "print('Breusch-Pagan Test for Model 1 - GRDP:', bp_test1)\n",
    "print('Breusch-Pagan Test for Model 2 - Total Workforce:', bp_test2)"
   ]
  },
  {
   "cell_type": "markdown",
   "metadata": {},
   "source": [
    "### Autocorrelation Test"
   ]
  },
  {
   "cell_type": "code",
   "execution_count": 10,
   "metadata": {},
   "outputs": [
    {
     "name": "stdout",
     "output_type": "stream",
     "text": [
      "Durbin-Watson Test for Model 1 - GRDP: 2.3339705228112266\n",
      "Durbin-Watson Test for Model 2 - Total Workforce: 2.130209315741614\n"
     ]
    }
   ],
   "source": [
    "# Durbin-Watson Test for model1 and model2\n",
    "dw1 = durbin_watson(residual1)\n",
    "dw2 = durbin_watson(residual2)\n",
    "\n",
    "print('Durbin-Watson Test for Model 1 - GRDP:', dw1)\n",
    "print('Durbin-Watson Test for Model 2 - Total Workforce:', dw2)"
   ]
  },
  {
   "cell_type": "markdown",
   "metadata": {},
   "source": [
    "### Model SUR"
   ]
  },
  {
   "cell_type": "code",
   "execution_count": 11,
   "metadata": {},
   "outputs": [],
   "source": [
    "equations = {\n",
    "    'grdp': (y1, X1),\n",
    "    'total_workforce': (y2, X2)\n",
    "}"
   ]
  },
  {
   "cell_type": "markdown",
   "metadata": {},
   "source": [
    "### SUR Estimate"
   ]
  },
  {
   "cell_type": "code",
   "execution_count": 12,
   "metadata": {},
   "outputs": [],
   "source": [
    "sur_model = SUR(equations)\n",
    "results = sur_model.fit()"
   ]
  },
  {
   "cell_type": "markdown",
   "metadata": {},
   "source": [
    "### Display Result"
   ]
  },
  {
   "cell_type": "code",
   "execution_count": 13,
   "metadata": {},
   "outputs": [
    {
     "data": {
      "text/html": [
       "<table class=\"simpletable\">\n",
       "<caption>System GLS Estimation Summary</caption>\n",
       "<tr>\n",
       "  <th>Estimator:</th>               <td>GLS</td>       <th>  Overall R-squared: </th>      <td>0.8821</td>\n",
       "</tr>\n",
       "<tr>\n",
       "  <th>No. Equations.:</th>           <td>2</td>        <th>  McElroy's R-squared:</th>     <td>0.8304</td>\n",
       "</tr>\n",
       "<tr>\n",
       "  <th>No. Observations:</th>        <td>38</td>        <th>  Judge's (OLS) R-squared:</th> <td>0.8821</td>\n",
       "</tr>\n",
       "<tr>\n",
       "  <th>Date:</th>             <td>Fri, Nov 29 2024</td> <th>  Berndt's R-squared:</th>      <td>0.9267</td>\n",
       "</tr>\n",
       "<tr>\n",
       "  <th>Time:</th>                 <td>21:31:53</td>     <th>  Dhrymes's R-squared:</th>     <td>0.8821</td>\n",
       "</tr>\n",
       "<tr>\n",
       "  <th></th>                          <td></td>         <th>  Cov. Estimator:    </th>      <td>robust</td>\n",
       "</tr>\n",
       "<tr>\n",
       "  <th></th>                          <td></td>         <th>  Num. Constraints:  </th>       <td>None</td> \n",
       "</tr>\n",
       "</table>\n",
       "<table class=\"simpletable\">\n",
       "<caption>Equation: grdp, Dependent Variable: grdp</caption>\n",
       "<tr>\n",
       "         <td></td>         <th>Parameter</th> <th>Std. Err.</th> <th>T-stat</th>  <th>P-value</th> <th>Lower CI</th>  <th>Upper CI</th>\n",
       "</tr>\n",
       "<tr>\n",
       "  <th>const</th>            <td>5.1933</td>    <td>5.2967</td>   <td>0.9805</td>  <td>0.3268</td>   <td>-5.1880</td>   <td>15.575</td> \n",
       "</tr>\n",
       "<tr>\n",
       "  <th>hdi</th>              <td>-0.0025</td>   <td>0.0814</td>   <td>-0.0308</td> <td>0.9754</td>   <td>-0.1620</td>   <td>0.1570</td> \n",
       "</tr>\n",
       "<tr>\n",
       "  <th>minimum_wage</th>     <td>0.3681</td>    <td>0.1870</td>   <td>1.9689</td>  <td>0.0490</td>   <td>0.0017</td>    <td>0.7345</td> \n",
       "</tr>\n",
       "<tr>\n",
       "  <th>poverty</th>          <td>-0.0162</td>   <td>0.0043</td>   <td>-3.7686</td> <td>0.0002</td>   <td>-0.0247</td>   <td>-0.0078</td>\n",
       "</tr>\n",
       "<tr>\n",
       "  <th>ou_rate</th>          <td>-0.2437</td>   <td>0.1930</td>   <td>-1.2627</td> <td>0.2067</td>   <td>-0.6219</td>   <td>0.1346</td> \n",
       "</tr>\n",
       "<tr>\n",
       "  <th>total_workforce</th> <td>2.602e-06</td> <td>6.979e-07</td> <td>3.7282</td>  <td>0.0002</td>  <td>1.234e-06</td> <td>3.97e-06</td>\n",
       "</tr>\n",
       "</table>\n",
       "<table class=\"simpletable\">\n",
       "<caption>Equation: total_workforce, Dependent Variable: total_workforce</caption>\n",
       "<tr>\n",
       "         <td></td>          <th>Parameter</th> <th>Std. Err.</th> <th>T-stat</th>  <th>P-value</th>  <th>Lower CI</th>  <th>Upper CI</th> \n",
       "</tr>\n",
       "<tr>\n",
       "  <th>const</th>           <td>-5.607e+05</td> <td>6.391e+05</td> <td>-0.8774</td> <td>0.3803</td>  <td>-1.813e+06</td> <td>6.918e+05</td>\n",
       "</tr>\n",
       "<tr>\n",
       "  <th>grdp</th>             <td>9.908e+04</td> <td>2.282e+04</td> <td>4.3417</td>  <td>0.0000</td>   <td>5.435e+04</td> <td>1.438e+05</td>\n",
       "</tr>\n",
       "<tr>\n",
       "  <th>hdi</th>               <td>-836.10</td>   <td>9393.0</td>   <td>-0.0890</td> <td>0.9291</td>  <td>-1.925e+04</td> <td>1.757e+04</td>\n",
       "</tr>\n",
       "<tr>\n",
       "  <th>minimum_wage</th>    <td>-3.657e+04</td> <td>2.93e+04</td>  <td>-1.2480</td> <td>0.2120</td>  <td>-9.399e+04</td> <td>2.086e+04</td>\n",
       "</tr>\n",
       "<tr>\n",
       "  <th>regional_income</th>   <td>122.12</td>    <td>24.156</td>   <td>5.0555</td>  <td>0.0000</td>    <td>74.775</td>    <td>169.46</td>  \n",
       "</tr>\n",
       "<tr>\n",
       "  <th>poverty</th>           <td>3385.1</td>    <td>722.01</td>   <td>4.6884</td>  <td>0.0000</td>    <td>1970.0</td>    <td>4800.2</td>  \n",
       "</tr>\n",
       "<tr>\n",
       "  <th>ou_rate</th>          <td>4.31e+04</td>  <td>1.809e+04</td> <td>2.3828</td>  <td>0.0172</td>    <td>7647.2</td>   <td>7.854e+04</td>\n",
       "</tr>\n",
       "</table><br/><br/>Covariance Estimator:<br/>Heteroskedastic (Robust) Covariance (Debiased: False, GLS: True)"
      ],
      "text/latex": [
       "\\begin{center}\n",
       "\\begin{tabular}{lclc}\n",
       "\\toprule\n",
       "\\textbf{Estimator:}        &        GLS         & \\textbf{  Overall R-squared: }      &      0.8821      \\\\\n",
       "\\textbf{No. Equations.:}   &         2          & \\textbf{  McElroy's R-squared:}     &      0.8304      \\\\\n",
       "\\textbf{No. Observations:} &         38         & \\textbf{  Judge's (OLS) R-squared:} &      0.8821      \\\\\n",
       "\\textbf{Date:}             &  Fri, Nov 29 2024  & \\textbf{  Berndt's R-squared:}      &      0.9267      \\\\\n",
       "\\textbf{Time:}             &      21:31:53      & \\textbf{  Dhrymes's R-squared:}     &      0.8821      \\\\\n",
       "\\textbf{}                  &                    & \\textbf{  Cov. Estimator:    }      &      robust      \\\\\n",
       "\\textbf{}                  &                    & \\textbf{  Num. Constraints:  }      &       None       \\\\\n",
       "\\bottomrule\n",
       "\\end{tabular}\n",
       "\\begin{tabular}{lcccccc}\n",
       "                          & \\textbf{Parameter} & \\textbf{Std. Err.} & \\textbf{T-stat} & \\textbf{P-value} & \\textbf{Lower CI} & \\textbf{Upper CI}  \\\\\n",
       "\\midrule\n",
       "\\textbf{const}            &       5.1933       &       5.2967       &      0.9805     &      0.3268      &      -5.1880      &       15.575       \\\\\n",
       "\\textbf{hdi}              &      -0.0025       &       0.0814       &     -0.0308     &      0.9754      &      -0.1620      &       0.1570       \\\\\n",
       "\\textbf{minimum\\_wage}    &       0.3681       &       0.1870       &      1.9689     &      0.0490      &       0.0017      &       0.7345       \\\\\n",
       "\\textbf{poverty}          &      -0.0162       &       0.0043       &     -3.7686     &      0.0002      &      -0.0247      &      -0.0078       \\\\\n",
       "\\textbf{ou\\_rate}         &      -0.2437       &       0.1930       &     -1.2627     &      0.2067      &      -0.6219      &       0.1346       \\\\\n",
       "\\textbf{total\\_workforce} &     2.602e-06      &     6.979e-07      &      3.7282     &      0.0002      &     1.234e-06     &      3.97e-06      \\\\\n",
       "                          & \\textbf{Parameter} & \\textbf{Std. Err.} & \\textbf{T-stat} & \\textbf{P-value} & \\textbf{Lower CI} & \\textbf{Upper CI}  \\\\\n",
       "\\midrule\n",
       "\\textbf{const}            &     -5.607e+05     &     6.391e+05      &     -0.8774     &      0.3803      &     -1.813e+06    &     6.918e+05      \\\\\n",
       "\\textbf{grdp}             &     9.908e+04      &     2.282e+04      &      4.3417     &      0.0000      &     5.435e+04     &     1.438e+05      \\\\\n",
       "\\textbf{hdi}              &      -836.10       &       9393.0       &     -0.0890     &      0.9291      &     -1.925e+04    &     1.757e+04      \\\\\n",
       "\\textbf{minimum\\_wage}    &     -3.657e+04     &      2.93e+04      &     -1.2480     &      0.2120      &     -9.399e+04    &     2.086e+04      \\\\\n",
       "\\textbf{regional\\_income} &       122.12       &       24.156       &      5.0555     &      0.0000      &       74.775      &       169.46       \\\\\n",
       "\\textbf{poverty}          &       3385.1       &       722.01       &      4.6884     &      0.0000      &       1970.0      &       4800.2       \\\\\n",
       "\\textbf{ou\\_rate}         &      4.31e+04      &     1.809e+04      &      2.3828     &      0.0172      &       7647.2      &     7.854e+04      \\\\\n",
       "\\bottomrule\n",
       "\\end{tabular}\n",
       "%\\caption{System GLS Estimation Summary}\n",
       "\\end{center}\n",
       "\n",
       "Covariance Estimator: \\newline\n",
       " Heteroskedastic (Robust) Covariance (Debiased: False, GLS: True)"
      ],
      "text/plain": [
       "<class 'linearmodels.compat.statsmodels.Summary'>\n",
       "\"\"\"\n",
       "                           System GLS Estimation Summary                           \n",
       "===================================================================================\n",
       "Estimator:                        GLS   Overall R-squared:                   0.8821\n",
       "No. Equations.:                     2   McElroy's R-squared:                 0.8304\n",
       "No. Observations:                  38   Judge's (OLS) R-squared:             0.8821\n",
       "Date:                Fri, Nov 29 2024   Berndt's R-squared:                  0.9267\n",
       "Time:                        21:31:53   Dhrymes's R-squared:                 0.8821\n",
       "                                        Cov. Estimator:                      robust\n",
       "                                        Num. Constraints:                      None\n",
       "                      Equation: grdp, Dependent Variable: grdp                     \n",
       "===================================================================================\n",
       "                 Parameter  Std. Err.     T-stat    P-value    Lower CI    Upper CI\n",
       "-----------------------------------------------------------------------------------\n",
       "const               5.1933     5.2967     0.9805     0.3268     -5.1880      15.575\n",
       "hdi                -0.0025     0.0814    -0.0308     0.9754     -0.1620      0.1570\n",
       "minimum_wage        0.3681     0.1870     1.9689     0.0490      0.0017      0.7345\n",
       "poverty            -0.0162     0.0043    -3.7686     0.0002     -0.0247     -0.0078\n",
       "ou_rate            -0.2437     0.1930    -1.2627     0.2067     -0.6219      0.1346\n",
       "total_workforce  2.602e-06  6.979e-07     3.7282     0.0002   1.234e-06    3.97e-06\n",
       "           Equation: total_workforce, Dependent Variable: total_workforce          \n",
       "===================================================================================\n",
       "                 Parameter  Std. Err.     T-stat    P-value    Lower CI    Upper CI\n",
       "-----------------------------------------------------------------------------------\n",
       "const           -5.607e+05  6.391e+05    -0.8774     0.3803  -1.813e+06   6.918e+05\n",
       "grdp             9.908e+04  2.282e+04     4.3417     0.0000   5.435e+04   1.438e+05\n",
       "hdi                -836.10     9393.0    -0.0890     0.9291  -1.925e+04   1.757e+04\n",
       "minimum_wage    -3.657e+04   2.93e+04    -1.2480     0.2120  -9.399e+04   2.086e+04\n",
       "regional_income     122.12     24.156     5.0555     0.0000      74.775      169.46\n",
       "poverty             3385.1     722.01     4.6884     0.0000      1970.0      4800.2\n",
       "ou_rate           4.31e+04  1.809e+04     2.3828     0.0172      7647.2   7.854e+04\n",
       "===================================================================================\n",
       "\n",
       "Covariance Estimator:\n",
       "Heteroskedastic (Robust) Covariance (Debiased: False, GLS: True)\n",
       "\"\"\""
      ]
     },
     "execution_count": 13,
     "metadata": {},
     "output_type": "execute_result"
    }
   ],
   "source": [
    "results.summary"
   ]
  },
  {
   "cell_type": "markdown",
   "metadata": {},
   "source": [
    "### Correlation Between Two Equations"
   ]
  },
  {
   "cell_type": "code",
   "execution_count": 14,
   "metadata": {},
   "outputs": [
    {
     "name": "stdout",
     "output_type": "stream",
     "text": [
      "Korelasi antara residual GRDP dan Total Workforce: -0.5523\n"
     ]
    }
   ],
   "source": [
    "residuals = results.resids\n",
    "residual_grdp = residuals['grdp']\n",
    "residual_total_workforce = residuals['total_workforce']\n",
    "\n",
    "corr_grdp_total_workforce = np.corrcoef(residual_grdp, residual_total_workforce)[0, 1]\n",
    "print(f'Korelasi antara residual GRDP dan Total Workforce: {corr_grdp_total_workforce:.4f}')"
   ]
  }
 ],
 "metadata": {
  "kernelspec": {
   "display_name": "johan",
   "language": "python",
   "name": "python3"
  },
  "language_info": {
   "codemirror_mode": {
    "name": "ipython",
    "version": 3
   },
   "file_extension": ".py",
   "mimetype": "text/x-python",
   "name": "python",
   "nbconvert_exporter": "python",
   "pygments_lexer": "ipython3",
   "version": "3.11.9"
  }
 },
 "nbformat": 4,
 "nbformat_minor": 2
}
